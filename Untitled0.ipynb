{
  "nbformat": 4,
  "nbformat_minor": 0,
  "metadata": {
    "colab": {
      "name": "Untitled0.ipynb",
      "provenance": [],
      "authorship_tag": "ABX9TyMYFgEFd4YVTq0hjrxVfhZI",
      "include_colab_link": true
    },
    "kernelspec": {
      "name": "python3",
      "display_name": "Python 3"
    }
  },
  "cells": [
    {
      "cell_type": "markdown",
      "metadata": {
        "id": "view-in-github",
        "colab_type": "text"
      },
      "source": [
        "<a href=\"https://colab.research.google.com/github/stevensho11/markdown1/blob/master/Untitled0.ipynb\" target=\"_parent\"><img src=\"https://colab.research.google.com/assets/colab-badge.svg\" alt=\"Open In Colab\"/></a>"
      ]
    },
    {
      "cell_type": "code",
      "metadata": {
        "id": "VwDUmNONpSiC",
        "colab_type": "code",
        "colab": {}
      },
      "source": [
        "##About me\n",
        "###My name is **Stevens Ho**. Something _interesting_ about me is that I'm allergic to ~peanuts~ seafood."
      ],
      "execution_count": 1,
      "outputs": []
    }
  ]
}